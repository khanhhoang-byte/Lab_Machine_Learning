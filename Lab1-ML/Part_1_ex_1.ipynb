{
 "cells": [
  {
   "cell_type": "code",
   "execution_count": 14,
   "id": "a12458f0",
   "metadata": {},
   "outputs": [],
   "source": [
    "import json\n",
    "import csv"
   ]
  },
  {
   "cell_type": "code",
   "execution_count": 15,
   "id": "7032058e",
   "metadata": {},
   "outputs": [],
   "source": [
    "with open(\"sales.json\") as file:\n",
    "    data = json.load(file)"
   ]
  },
  {
   "cell_type": "code",
   "execution_count": 16,
   "id": "5d45af23",
   "metadata": {},
   "outputs": [],
   "source": [
    "item_data = open('sale.csv','w')\n",
    "csvwriter = csv.writer(item_data)\n",
    "\n",
    "count = 0\n",
    "for item in data:\n",
    "    if count == 0:\n",
    "        header = item.keys()\n",
    "        csvwriter.writerow(header)\n",
    "        count += 1\n",
    "    csvwriter.writerow(item.values())    \n",
    "item_data.close()\n",
    "               "
   ]
  },
  {
   "cell_type": "code",
   "execution_count": 17,
   "id": "8e419b3b",
   "metadata": {},
   "outputs": [],
   "source": [
    "import pandas as pd"
   ]
  },
  {
   "cell_type": "code",
   "execution_count": 18,
   "id": "b53e495c",
   "metadata": {},
   "outputs": [],
   "source": [
    "df = pd.read_csv('sale.csv')"
   ]
  },
  {
   "cell_type": "code",
   "execution_count": 19,
   "id": "3165bc3c",
   "metadata": {},
   "outputs": [
    {
     "data": {
      "text/html": [
       "<div>\n",
       "<style scoped>\n",
       "    .dataframe tbody tr th:only-of-type {\n",
       "        vertical-align: middle;\n",
       "    }\n",
       "\n",
       "    .dataframe tbody tr th {\n",
       "        vertical-align: top;\n",
       "    }\n",
       "\n",
       "    .dataframe thead th {\n",
       "        text-align: right;\n",
       "    }\n",
       "</style>\n",
       "<table border=\"1\" class=\"dataframe\">\n",
       "  <thead>\n",
       "    <tr style=\"text-align: right;\">\n",
       "      <th></th>\n",
       "      <th>item</th>\n",
       "      <th>sales_by_country</th>\n",
       "    </tr>\n",
       "  </thead>\n",
       "  <tbody>\n",
       "    <tr>\n",
       "      <th>0</th>\n",
       "      <td>sweater</td>\n",
       "      <td>{'Russia': {'2010': 85, '2011': 10, '2012': 10...</td>\n",
       "    </tr>\n",
       "    <tr>\n",
       "      <th>1</th>\n",
       "      <td>sneakers</td>\n",
       "      <td>{'Russia': {'2010': 27, '2011': 143, '2012': 1...</td>\n",
       "    </tr>\n",
       "    <tr>\n",
       "      <th>2</th>\n",
       "      <td>hoodie</td>\n",
       "      <td>{'Russia': {'2010': 46, '2011': 23, '2012': 15...</td>\n",
       "    </tr>\n",
       "    <tr>\n",
       "      <th>3</th>\n",
       "      <td>jeans</td>\n",
       "      <td>{'Russia': {'2010': 148, '2011': 23, '2012': 1...</td>\n",
       "    </tr>\n",
       "    <tr>\n",
       "      <th>4</th>\n",
       "      <td>t-shirt</td>\n",
       "      <td>{'Russia': {'2010': 118, '2011': 141, '2012': ...</td>\n",
       "    </tr>\n",
       "  </tbody>\n",
       "</table>\n",
       "</div>"
      ],
      "text/plain": [
       "       item                                   sales_by_country\n",
       "0   sweater  {'Russia': {'2010': 85, '2011': 10, '2012': 10...\n",
       "1  sneakers  {'Russia': {'2010': 27, '2011': 143, '2012': 1...\n",
       "2    hoodie  {'Russia': {'2010': 46, '2011': 23, '2012': 15...\n",
       "3     jeans  {'Russia': {'2010': 148, '2011': 23, '2012': 1...\n",
       "4   t-shirt  {'Russia': {'2010': 118, '2011': 141, '2012': ..."
      ]
     },
     "execution_count": 19,
     "metadata": {},
     "output_type": "execute_result"
    }
   ],
   "source": [
    "df"
   ]
  }
 ],
 "metadata": {
  "kernelspec": {
   "display_name": "Python 3 (ipykernel)",
   "language": "python",
   "name": "python3"
  },
  "language_info": {
   "codemirror_mode": {
    "name": "ipython",
    "version": 3
   },
   "file_extension": ".py",
   "mimetype": "text/x-python",
   "name": "python",
   "nbconvert_exporter": "python",
   "pygments_lexer": "ipython3",
   "version": "3.8.0"
  }
 },
 "nbformat": 4,
 "nbformat_minor": 5
}
