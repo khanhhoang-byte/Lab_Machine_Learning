{
 "cells": [
  {
   "cell_type": "code",
   "execution_count": 3,
   "id": "785e791e",
   "metadata": {},
   "outputs": [],
   "source": [
    "import numpy as np\n",
    "import matplotlib.pyplot as plt\n",
    "import tensorflow.keras\n",
    "from tensorflow.keras.datasets import mnist\n",
    "from tensorflow.keras.models import Sequential\n",
    "from tensorflow.keras.layers import Dense  \n",
    "from tensorflow.keras.optimizers import Adam\n",
    "from tensorflow.keras.utils import to_categorical\n",
    "import random"
   ]
  },
  {
   "cell_type": "code",
   "execution_count": 4,
   "id": "c40c7fdf",
   "metadata": {},
   "outputs": [],
   "source": [
    "np.random.seed(0)"
   ]
  },
  {
   "cell_type": "code",
   "execution_count": 5,
   "id": "c47b2985",
   "metadata": {},
   "outputs": [],
   "source": [
    "(X_train, y_train), (X_test, y_test) = mnist.load_data()"
   ]
  },
  {
   "cell_type": "code",
   "execution_count": 6,
   "id": "699f949c",
   "metadata": {},
   "outputs": [
    {
     "name": "stdout",
     "output_type": "stream",
     "text": [
      "(60000, 28, 28)\n",
      "(10000, 28, 28)\n",
      "60000\n"
     ]
    }
   ],
   "source": [
    "# see the shapes of our data imported from MNIST dataset.\n",
    "print(X_train.shape)\n",
    "print(X_test.shape)\n",
    "print(y_train.shape[0])"
   ]
  },
  {
   "cell_type": "code",
   "execution_count": 7,
   "id": "3baba918",
   "metadata": {},
   "outputs": [],
   "source": [
    "assert(X_train.shape[0] == y_train.shape[0]), \"The number of images is not equal to the number of labels.\"\n",
    "assert(X_test.shape[0] == y_test.shape[0]), \"The number of images is not equal to the number of labels.\"\n",
    "assert(X_train.shape[1:] == (28,28)), \"The dimensions of the images are not 28x28\"\n",
    "assert(X_test.shape[1:] == (28,28)), \"The dimensions of the images are not 28x28\""
   ]
  },
  {
   "cell_type": "code",
   "execution_count": 8,
   "id": "7f1eeab9",
   "metadata": {},
   "outputs": [],
   "source": [
    "num_of_samples = []"
   ]
  },
  {
   "cell_type": "code",
   "execution_count": 9,
   "id": "fa931d57",
   "metadata": {},
   "outputs": [],
   "source": [
    "cols = 5\n",
    "num_classes = 10"
   ]
  },
  {
   "cell_type": "code",
   "execution_count": 10,
   "id": "abbc0224",
   "metadata": {},
   "outputs": [
    {
     "data": {
      "image/png": "[encoded data removed]",
      "text/plain": [
       "<Figure size 360x720 with 50 Axes>"
      ]
     },
     "metadata": {
      "needs_background": "light"
     },
     "output_type": "display_data"
    }
   ],
   "source": [
    "fig, axs = plt.subplots(nrows=num_classes, ncols = cols, figsize=(5, 10))\n",
    "fig.tight_layout()  # To avoid overlapping of plots"
   ]
  },
  {
   "cell_type": "code",
   "execution_count": 11,
   "id": "a4663376",
   "metadata": {},
   "outputs": [],
   "source": [
    "for i in range(cols):\n",
    "    for j in range(num_classes):\n",
    "        x_selected = X_train[y_train == j]\n",
    "        axs[j][i].imshow(x_selected[random.randint(0, len(x_selected - 1)), :, :], cmap=plt.get_cmap(\"gray\"))\n",
    "        axs[j][i].axis(\"off\") # To remove axis\n",
    "        if i == 2:\n",
    "            axs[j][i].set_title(str(j))\n",
    "            num_of_samples.append(len(x_selected))"
   ]
  },
  {
   "cell_type": "code",
   "execution_count": 12,
   "id": "c9aefc76",
   "metadata": {},
   "outputs": [
    {
     "name": "stdout",
     "output_type": "stream",
     "text": [
      "No.of Samples: [5923, 6742, 5958, 6131, 5842, 5421, 5918, 6265, 5851, 5949]\n"
     ]
    },
    {
     "data": {
      "text/plain": [
       "Text(0, 0.5, 'Number of images')"
      ]
     },
     "execution_count": 12,
     "metadata": {},
     "output_type": "execute_result"
    },
    {
     "data": {
      "image/png": "[encoded data removed]",
      "text/plain": [
       "<Figure size 864x288 with 1 Axes>"
      ]
     },
     "metadata": {
      "needs_background": "light"
     },
     "output_type": "display_data"
    }
   ],
   "source": [
    "# shows the no.of images belonging to each class\n",
    "print(\"No.of Samples:\", num_of_samples)\n",
    "# Lets visualize this with bar plots\n",
    "plt.figure(figsize=(12, 4))\n",
    "plt.bar(range(0, num_classes), num_of_samples)\n",
    "plt.title(\"Distribution of the training dataset\")\n",
    "plt.xlabel(\"Class number\")\n",
    "plt.ylabel(\"Number of images\")"
   ]
  },
  {
   "cell_type": "code",
   "execution_count": 13,
   "id": "b5788771",
   "metadata": {},
   "outputs": [],
   "source": [
    "# (labels to encode, total no.of classes)\n",
    "y_train = to_categorical(y_train, 10)\n",
    "y_test = to_categorical(y_test, 10)"
   ]
  },
  {
   "cell_type": "code",
   "execution_count": 14,
   "id": "9fc57763",
   "metadata": {},
   "outputs": [],
   "source": [
    "X_train = X_train/255 \n",
    "X_test = X_test/255"
   ]
  },
  {
   "cell_type": "code",
   "execution_count": 15,
   "id": "3fb32859",
   "metadata": {},
   "outputs": [
    {
     "name": "stdout",
     "output_type": "stream",
     "text": [
      "training data (60000, 784)\n",
      "testing data (10000, 784)\n"
     ]
    }
   ],
   "source": [
    "num_pixels = 784\n",
    "X_train = X_train.reshape(X_train.shape[0], num_pixels)\n",
    "X_test = X_test.reshape(X_test.shape[0], num_pixels)\n",
    "print(\"training data\", X_train.shape)\n",
    "print(\"testing data\", X_test.shape)"
   ]
  },
  {
   "cell_type": "code",
   "execution_count": 16,
   "id": "06090f37",
   "metadata": {},
   "outputs": [
    {
     "name": "stdout",
     "output_type": "stream",
     "text": [
      "Model: \"sequential\"\n",
      "_________________________________________________________________\n",
      " Layer (type)                Output Shape              Param #   \n",
      "=================================================================\n",
      " dense (Dense)               (None, 10)                7850      \n",
      "                                                                 \n",
      " dense_1 (Dense)             (None, 30)                330       \n",
      "                                                                 \n",
      " dense_2 (Dense)             (None, 10)                310       \n",
      "                                                                 \n",
      " dense_3 (Dense)             (None, 10)                110       \n",
      "                                                                 \n",
      "=================================================================\n",
      "Total params: 8,600\n",
      "Trainable params: 8,600\n",
      "Non-trainable params: 0\n",
      "_________________________________________________________________\n",
      "None\n"
     ]
    }
   ],
   "source": [
    "def create_model():\n",
    "    model = Sequential()\n",
    "    model.add(Dense(10, input_dim=num_pixels, activation='relu'))\n",
    "    model.add(Dense(30, activation='relu'))\n",
    "    model.add(Dense(10, activation='relu'))\n",
    "    model.add(Dense(num_classes, activation='softmax'))\n",
    "    model.compile(Adam(learning_rate=0.01), loss='categorical_crossentropy', metrics=['accuracy'])\n",
    "    return model\n",
    "model = create_model()\n",
    "print(model.summary())"
   ]
  },
  {
   "cell_type": "code",
   "execution_count": 17,
   "id": "4831ac1b",
   "metadata": {},
   "outputs": [
    {
     "name": "stdout",
     "output_type": "stream",
     "text": [
      "Epoch 1/30\n",
      "270/270 [==============================] - 2s 3ms/step - loss: 0.5658 - accuracy: 0.8169 - val_loss: 0.2609 - val_accuracy: 0.9233\n",
      "Epoch 2/30\n",
      "270/270 [==============================] - 1s 3ms/step - loss: 0.2843 - accuracy: 0.9160 - val_loss: 0.2338 - val_accuracy: 0.9330\n",
      "Epoch 3/30\n",
      "270/270 [==============================] - 1s 2ms/step - loss: 0.2480 - accuracy: 0.9278 - val_loss: 0.2144 - val_accuracy: 0.9405\n",
      "Epoch 4/30\n",
      "270/270 [==============================] - 1s 3ms/step - loss: 0.2264 - accuracy: 0.9319 - val_loss: 0.2057 - val_accuracy: 0.9417\n",
      "Epoch 5/30\n",
      "270/270 [==============================] - 1s 3ms/step - loss: 0.2115 - accuracy: 0.9378 - val_loss: 0.1948 - val_accuracy: 0.9472\n",
      "Epoch 6/30\n",
      "270/270 [==============================] - 1s 3ms/step - loss: 0.2015 - accuracy: 0.9403 - val_loss: 0.1920 - val_accuracy: 0.9465\n",
      "Epoch 7/30\n",
      "270/270 [==============================] - 1s 3ms/step - loss: 0.1929 - accuracy: 0.9423 - val_loss: 0.1942 - val_accuracy: 0.9417\n",
      "Epoch 8/30\n",
      "270/270 [==============================] - 1s 3ms/step - loss: 0.1893 - accuracy: 0.9439 - val_loss: 0.1991 - val_accuracy: 0.9447\n",
      "Epoch 9/30\n",
      "270/270 [==============================] - 1s 3ms/step - loss: 0.1872 - accuracy: 0.9434 - val_loss: 0.1845 - val_accuracy: 0.9492\n",
      "Epoch 10/30\n",
      "270/270 [==============================] - 1s 3ms/step - loss: 0.1781 - accuracy: 0.9464 - val_loss: 0.1921 - val_accuracy: 0.9470\n",
      "Epoch 11/30\n",
      "270/270 [==============================] - 1s 3ms/step - loss: 0.1765 - accuracy: 0.9464 - val_loss: 0.1753 - val_accuracy: 0.9480\n",
      "Epoch 12/30\n",
      "270/270 [==============================] - 1s 3ms/step - loss: 0.1736 - accuracy: 0.9471 - val_loss: 0.1877 - val_accuracy: 0.9495\n",
      "Epoch 13/30\n",
      "270/270 [==============================] - 1s 3ms/step - loss: 0.1699 - accuracy: 0.9492 - val_loss: 0.1817 - val_accuracy: 0.9465\n",
      "Epoch 14/30\n",
      "270/270 [==============================] - 1s 3ms/step - loss: 0.1645 - accuracy: 0.9498 - val_loss: 0.1707 - val_accuracy: 0.9522\n",
      "Epoch 15/30\n",
      "270/270 [==============================] - 1s 3ms/step - loss: 0.1668 - accuracy: 0.9497 - val_loss: 0.1917 - val_accuracy: 0.9460\n",
      "Epoch 16/30\n",
      "270/270 [==============================] - 1s 3ms/step - loss: 0.1699 - accuracy: 0.9486 - val_loss: 0.1866 - val_accuracy: 0.9478\n",
      "Epoch 17/30\n",
      "270/270 [==============================] - 1s 3ms/step - loss: 0.1648 - accuracy: 0.9493 - val_loss: 0.1686 - val_accuracy: 0.9543\n",
      "Epoch 18/30\n",
      "270/270 [==============================] - 1s 3ms/step - loss: 0.1647 - accuracy: 0.9506 - val_loss: 0.2037 - val_accuracy: 0.9430\n",
      "Epoch 19/30\n",
      "270/270 [==============================] - 1s 3ms/step - loss: 0.1592 - accuracy: 0.9518 - val_loss: 0.1810 - val_accuracy: 0.9497\n",
      "Epoch 20/30\n",
      "270/270 [==============================] - 1s 2ms/step - loss: 0.1604 - accuracy: 0.9511 - val_loss: 0.1741 - val_accuracy: 0.9507\n",
      "Epoch 21/30\n",
      "270/270 [==============================] - 1s 3ms/step - loss: 0.1527 - accuracy: 0.9532 - val_loss: 0.1830 - val_accuracy: 0.9495\n",
      "Epoch 22/30\n",
      "270/270 [==============================] - 1s 3ms/step - loss: 0.1564 - accuracy: 0.9522 - val_loss: 0.1916 - val_accuracy: 0.9483\n",
      "Epoch 23/30\n",
      "270/270 [==============================] - 1s 3ms/step - loss: 0.1537 - accuracy: 0.9531 - val_loss: 0.2110 - val_accuracy: 0.9438\n",
      "Epoch 24/30\n",
      "270/270 [==============================] - 1s 3ms/step - loss: 0.1467 - accuracy: 0.9559 - val_loss: 0.1804 - val_accuracy: 0.9502\n",
      "Epoch 25/30\n",
      "270/270 [==============================] - 1s 3ms/step - loss: 0.1564 - accuracy: 0.9521 - val_loss: 0.1812 - val_accuracy: 0.9527\n",
      "Epoch 26/30\n",
      "270/270 [==============================] - 1s 3ms/step - loss: 0.1516 - accuracy: 0.9540 - val_loss: 0.1858 - val_accuracy: 0.9475\n",
      "Epoch 27/30\n",
      "270/270 [==============================] - 1s 2ms/step - loss: 0.1456 - accuracy: 0.9555 - val_loss: 0.1843 - val_accuracy: 0.9527\n",
      "Epoch 28/30\n",
      "270/270 [==============================] - 1s 3ms/step - loss: 0.1473 - accuracy: 0.9541 - val_loss: 0.1786 - val_accuracy: 0.9517\n",
      "Epoch 29/30\n",
      "270/270 [==============================] - 1s 2ms/step - loss: 0.1456 - accuracy: 0.9563 - val_loss: 0.1881 - val_accuracy: 0.9505\n",
      "Epoch 30/30\n",
      "270/270 [==============================] - 1s 3ms/step - loss: 0.1435 - accuracy: 0.9558 - val_loss: 0.1865 - val_accuracy: 0.9497\n"
     ]
    }
   ],
   "source": [
    "history = model.fit(X_train, y_train, validation_split=0.1, epochs = 30, batch_size = 200, verbose = 1, shuffle = 1)"
   ]
  },
  {
   "cell_type": "code",
   "execution_count": 18,
   "id": "fbb39d7b",
   "metadata": {},
   "outputs": [
    {
     "data": {
      "text/plain": [
       "Text(0.5, 0, 'epoch')"
      ]
     },
     "execution_count": 18,
     "metadata": {},
     "output_type": "execute_result"
    },
    {
     "data": {
      "image/png": "[encoded data removed]",
      "text/plain": [
       "<Figure size 432x288 with 1 Axes>"
      ]
     },
     "metadata": {
      "needs_background": "light"
     },
     "output_type": "display_data"
    }
   ],
   "source": [
    "plt.plot(history.history['loss'])\n",
    "plt.plot(history.history['val_loss'])\n",
    "plt.legend(['loss', 'val_loss'])\n",
    "plt.title('Loss')\n",
    "plt.xlabel('epoch')"
   ]
  },
  {
   "cell_type": "code",
   "execution_count": 19,
   "id": "30a3939e",
   "metadata": {},
   "outputs": [
    {
     "data": {
      "text/plain": [
       "Text(0.5, 0, 'epoch')"
      ]
     },
     "execution_count": 19,
     "metadata": {},
     "output_type": "execute_result"
    },
    {
     "data": {
      "image/png": "[encoded data removed]",
      "text/plain": [
       "<Figure size 432x288 with 1 Axes>"
      ]
     },
     "metadata": {
      "needs_background": "light"
     },
     "output_type": "display_data"
    }
   ],
   "source": [
    "plt.plot(history.history['accuracy'])\n",
    "plt.plot(history.history['val_accuracy'])\n",
    "plt.legend(['accuracy', 'val_accuracy'])\n",
    "plt.title('Accuracy')\n",
    "plt.xlabel('epoch')   "
   ]
  },
  {
   "cell_type": "code",
   "execution_count": 20,
   "id": "33d4a9a8",
   "metadata": {},
   "outputs": [
    {
     "name": "stdout",
     "output_type": "stream",
     "text": [
      "<class 'list'>\n",
      "Test score: 0.2225918024778366\n",
      "Test accuracy: 0.9391999840736389\n"
     ]
    }
   ],
   "source": [
    "score = model.evaluate(X_test, y_test, verbose=0)\n",
    "print(type(score))\n",
    "print('Test score:', score[0])\n",
    "print('Test accuracy:', score[1])"
   ]
  },
  {
   "cell_type": "code",
   "execution_count": 21,
   "id": "f403b59f",
   "metadata": {},
   "outputs": [
    {
     "data": {
      "text/plain": [
       "<matplotlib.image.AxesImage at 0x1f866684df0>"
      ]
     },
     "execution_count": 21,
     "metadata": {},
     "output_type": "execute_result"
    },
    {
     "data": {
      "image/png": "[encoded data removed]",
      "text/plain": [
       "<Figure size 432x288 with 1 Axes>"
      ]
     },
     "metadata": {
      "needs_background": "light"
     },
     "output_type": "display_data"
    }
   ],
   "source": [
    "import requests\n",
    "from PIL import Image\n",
    "url = 'https://www.researchgate.net/profile/Jose_Sempere/publication/221258631/figure/fig1/AS:305526891139075@1449854695342/Handwritten-digit-2.png'\n",
    "response = requests.get(url, stream=True)\n",
    "img = Image.open(response.raw)\n",
    "plt.imshow(img, cmap=plt.get_cmap('gray'))"
   ]
  },
  {
   "cell_type": "code",
   "execution_count": 22,
   "id": "410dccb8",
   "metadata": {},
   "outputs": [
    {
     "name": "stdout",
     "output_type": "stream",
     "text": [
      "resized image shape: (28, 28, 4)\n",
      "Grayscale image shape: (28, 28)\n"
     ]
    },
    {
     "data": {
      "text/plain": [
       "<matplotlib.image.AxesImage at 0x1f87e9971f0>"
      ]
     },
     "execution_count": 22,
     "metadata": {},
     "output_type": "execute_result"
    },
    {
     "data": {
      "image/png": "[encoded data removed]",
      "text/plain": [
       "<Figure size 432x288 with 1 Axes>"
      ]
     },
     "metadata": {
      "needs_background": "light"
     },
     "output_type": "display_data"
    }
   ],
   "source": [
    "import cv2\n",
    "array_img = np.asarray(img)\n",
    "resized_img = cv2.resize(array_img, (28, 28))\n",
    "print(\"resized image shape:\", resized_img.shape)\n",
    "gray_img = cv2.cvtColor(resized_img, cv2.COLOR_BGR2GRAY)\n",
    "print(\"Grayscale image shape:\", gray_img.shape)\n",
    "image = cv2.bitwise_not(gray_img)\n",
    "plt.imshow(image, cmap=plt.get_cmap('gray'))"
   ]
  },
  {
   "cell_type": "code",
   "execution_count": 23,
   "id": "42f49056",
   "metadata": {},
   "outputs": [
    {
     "name": "stdout",
     "output_type": "stream",
     "text": [
      "predicted digit: [2]\n"
     ]
    }
   ],
   "source": [
    "image = image/255\n",
    "image = image.reshape(1, 784)\n",
    "prediction = np.argmax(model.predict(image), axis=-1)\n",
    "print(\"predicted digit:\", str(prediction))"
   ]
  },
  {
   "cell_type": "code",
   "execution_count": null,
   "id": "1b1ad9a4",
   "metadata": {},
   "outputs": [],
   "source": []
  }
 ],
 "metadata": {
  "kernelspec": {
   "display_name": "Python 3 (ipykernel)",
   "language": "python",
   "name": "python3"
  },
  "language_info": {
   "codemirror_mode": {
    "name": "ipython",
    "version": 3
   },
   "file_extension": ".py",
   "mimetype": "text/x-python",
   "name": "python",
   "nbconvert_exporter": "python",
   "pygments_lexer": "ipython3",
   "version": "3.8.0"
  }
 },
 "nbformat": 4,
 "nbformat_minor": 5
}
