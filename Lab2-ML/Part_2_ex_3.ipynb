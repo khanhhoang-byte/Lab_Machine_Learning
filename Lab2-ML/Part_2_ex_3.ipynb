{
 "cells": [
  {
   "cell_type": "code",
   "execution_count": 1,
   "id": "3612b22b",
   "metadata": {},
   "outputs": [],
   "source": [
    "# 1. Add the necessary libraries\n",
    "import numpy as np\n",
    "import matplotlib.pyplot as plt\n",
    "from keras.models import Sequential\n",
    "from keras.layers import Dense, Dropout, Activation, Flatten\n",
    "from keras.layers import Conv2D, MaxPooling2D\n",
    "from keras.utils import np_utils\n",
    "from keras.datasets import mnist"
   ]
  },
  {
   "cell_type": "code",
   "execution_count": 2,
   "id": "b70ac299",
   "metadata": {},
   "outputs": [
    {
     "name": "stdout",
     "output_type": "stream",
     "text": [
      "(50000, 28, 28)\n"
     ]
    }
   ],
   "source": [
    "# 2. Load data MNIST\n",
    "(X_train, y_train), (X_test, y_test) = mnist.load_data()\n",
    "X_val, y_val = X_train[50000:60000,:], y_train[50000:60000]\n",
    "X_train, y_train = X_train[:50000,:], y_train[:50000]\n",
    "print(X_train.shape)"
   ]
  },
  {
   "cell_type": "code",
   "execution_count": 3,
   "id": "f636a179",
   "metadata": {},
   "outputs": [],
   "source": [
    "# 3. Reshape the data to the correct size required by keras\n",
    "X_train = X_train.reshape(X_train.shape[0], 28, 28, 1)\n",
    "X_val = X_val.reshape(X_val.shape[0], 28, 28, 1)\n",
    "X_test = X_test.reshape(X_test.shape[0], 28, 28, 1)"
   ]
  },
  {
   "cell_type": "code",
   "execution_count": 4,
   "id": "de0df35a",
   "metadata": {},
   "outputs": [
    {
     "name": "stdout",
     "output_type": "stream",
     "text": [
      "Initial medical data  5\n",
      "Data y after one-hot encoding  [0. 0. 0. 0. 0. 1. 0. 0. 0. 0.]\n"
     ]
    }
   ],
   "source": [
    "# 4. One hot encoding label (Y)\n",
    "Y_train = np_utils.to_categorical(y_train, 10)\n",
    "Y_val = np_utils.to_categorical(y_val, 10)\n",
    "Y_test = np_utils.to_categorical(y_test, 10)\n",
    "print('Initial medical data ', y_train[0])\n",
    "print('Data y after one-hot encoding ',Y_train[0])"
   ]
  },
  {
   "cell_type": "code",
   "execution_count": 5,
   "id": "c6064a5b",
   "metadata": {},
   "outputs": [],
   "source": [
    "# 5. Model definition\n",
    "model = Sequential()\n",
    " \n",
    "# Add Convolutional layer with 32 kernels, kernel size 3*3\n",
    "# use sigmoid function as activation and specify input_shape for first layer\n",
    "model.add(Conv2D(32, (3, 3), activation='sigmoid', input_shape=(28,28,1)))\n",
    "\n",
    "# Add Convolutional layer\n",
    "model.add(Conv2D(32, (3, 3), activation='sigmoid'))\n",
    "\n",
    "# Add Max pooling layer\n",
    "model.add(MaxPooling2D(pool_size=(2,2)))\n",
    "\n",
    "# Flatten layer convert from tensor to vector\n",
    "model.add(Flatten())\n",
    "\n",
    "# Add a Fully Connected layer with 128 nodes and use the sigmoid . function\n",
    "model.add(Dense(128, activation='sigmoid'))\n",
    "\n",
    "# Output layer with 10 nodes and use softmax function to convert to probability.\n",
    "model.add(Dense(10, activation='softmax'))"
   ]
  },
  {
   "cell_type": "code",
   "execution_count": 6,
   "id": "3209dbb0",
   "metadata": {},
   "outputs": [],
   "source": [
    "# 6. Compile model, specify which loss_function function to use, which method to use to optimize the loss function.\n",
    "model.compile(loss='categorical_crossentropy',\n",
    "              optimizer='adam',\n",
    "              metrics=['accuracy'])"
   ]
  },
  {
   "cell_type": "code",
   "execution_count": 7,
   "id": "9da474be",
   "metadata": {
    "scrolled": false
   },
   "outputs": [
    {
     "name": "stdout",
     "output_type": "stream",
     "text": [
      "Epoch 1/10\n",
      "1563/1563 [==============================] - 75s 47ms/step - loss: 0.2946 - accuracy: 0.9175 - val_loss: 0.0685 - val_accuracy: 0.9818\n",
      "Epoch 2/10\n",
      "1563/1563 [==============================] - 74s 47ms/step - loss: 0.0578 - accuracy: 0.9837 - val_loss: 0.0483 - val_accuracy: 0.9865\n",
      "Epoch 3/10\n",
      "1563/1563 [==============================] - 69s 44ms/step - loss: 0.0367 - accuracy: 0.9897 - val_loss: 0.0429 - val_accuracy: 0.9878\n",
      "Epoch 4/10\n",
      "1563/1563 [==============================] - 72s 46ms/step - loss: 0.0239 - accuracy: 0.9933 - val_loss: 0.0475 - val_accuracy: 0.9866\n",
      "Epoch 5/10\n",
      "1563/1563 [==============================] - 73s 46ms/step - loss: 0.0171 - accuracy: 0.9952 - val_loss: 0.0402 - val_accuracy: 0.9885\n",
      "Epoch 6/10\n",
      "1563/1563 [==============================] - 70s 45ms/step - loss: 0.0105 - accuracy: 0.9976 - val_loss: 0.0411 - val_accuracy: 0.9886\n",
      "Epoch 7/10\n",
      "1563/1563 [==============================] - 66s 42ms/step - loss: 0.0077 - accuracy: 0.9982 - val_loss: 0.0392 - val_accuracy: 0.9883\n",
      "Epoch 8/10\n",
      "1563/1563 [==============================] - 60s 38ms/step - loss: 0.0065 - accuracy: 0.9984 - val_loss: 0.0376 - val_accuracy: 0.9894\n",
      "Epoch 9/10\n",
      "1563/1563 [==============================] - 64s 41ms/step - loss: 0.0053 - accuracy: 0.9988 - val_loss: 0.0482 - val_accuracy: 0.9876\n",
      "Epoch 10/10\n",
      "1563/1563 [==============================] - 65s 41ms/step - loss: 0.0041 - accuracy: 0.9992 - val_loss: 0.0484 - val_accuracy: 0.9862\n"
     ]
    }
   ],
   "source": [
    "# 7. Implement train model with data\n",
    "H = model.fit(X_train, Y_train, validation_data=(X_val, Y_val),\n",
    "          batch_size=32, epochs=10, verbose=1)"
   ]
  },
  {
   "cell_type": "code",
   "execution_count": 8,
   "id": "7ddc8ccf",
   "metadata": {},
   "outputs": [
    {
     "data": {
      "text/plain": [
       "<matplotlib.legend.Legend at 0x22b425e4370>"
      ]
     },
     "execution_count": 8,
     "metadata": {},
     "output_type": "execute_result"
    },
    {
     "data": {
      "image/png": "[encoded data removed]",
      "text/plain": [
       "<Figure size 432x288 with 1 Axes>"
      ]
     },
     "metadata": {
      "needs_background": "light"
     },
     "output_type": "display_data"
    }
   ],
   "source": [
    "# 8. Plot loss, accuracy graph of training set and validation set\n",
    "fig = plt.figure()\n",
    "numOfEpoch = 10\n",
    "plt.plot(np.arange(0, numOfEpoch), H.history['loss'], label='training loss')\n",
    "plt.plot(np.arange(0, numOfEpoch), H.history['val_loss'], label='validation loss')\n",
    "plt.plot(np.arange(0, numOfEpoch), H.history['accuracy'], label='accuracy')\n",
    "plt.plot(np.arange(0, numOfEpoch), H.history['val_accuracy'], label='validation accuracy')\n",
    "plt.title('Accuracy and Loss')\n",
    "plt.xlabel('Epoch')\n",
    "plt.ylabel('Loss|Accuracy')\n",
    "plt.legend()"
   ]
  },
  {
   "cell_type": "code",
   "execution_count": 9,
   "id": "2b0dba2a",
   "metadata": {},
   "outputs": [
    {
     "name": "stdout",
     "output_type": "stream",
     "text": [
      "[0.04107574373483658, 0.9872000217437744]\n"
     ]
    }
   ],
   "source": [
    "# 9. Model evaluation with test set data\n",
    "score = model.evaluate(X_test, Y_test, verbose=0)\n",
    "print(score)"
   ]
  },
  {
   "cell_type": "code",
   "execution_count": 11,
   "id": "eb981761",
   "metadata": {},
   "outputs": [
    {
     "name": "stdout",
     "output_type": "stream",
     "text": [
      "Predicted value:  7\n"
     ]
    },
    {
     "data": {
      "image/png": "[encoded data removed]",
      "text/plain": [
       "<Figure size 432x288 with 1 Axes>"
      ]
     },
     "metadata": {
      "needs_background": "light"
     },
     "output_type": "display_data"
    }
   ],
   "source": [
    "# 10. Photo prediction\n",
    "plt.imshow(X_test[0].reshape(28,28), cmap='gray')\n",
    "\n",
    "y_predict = model.predict(X_test[0].reshape(1,28,28,1))\n",
    "print('Predicted value: ', np.argmax(y_predict))"
   ]
  },
  {
   "cell_type": "code",
   "execution_count": null,
   "id": "162f2757",
   "metadata": {},
   "outputs": [],
   "source": []
  }
 ],
 "metadata": {
  "kernelspec": {
   "display_name": "Python 3 (ipykernel)",
   "language": "python",
   "name": "python3"
  },
  "language_info": {
   "codemirror_mode": {
    "name": "ipython",
    "version": 3
   },
   "file_extension": ".py",
   "mimetype": "text/x-python",
   "name": "python",
   "nbconvert_exporter": "python",
   "pygments_lexer": "ipython3",
   "version": "3.8.0"
  }
 },
 "nbformat": 4,
 "nbformat_minor": 5
}
